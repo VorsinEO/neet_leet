{
 "cells": [
  {
   "cell_type": "code",
   "execution_count": 1,
   "id": "0c33558f-f66c-4d76-85dc-27c0ade8c49e",
   "metadata": {},
   "outputs": [],
   "source": [
    "import heapq"
   ]
  },
  {
   "cell_type": "code",
   "execution_count": null,
   "id": "061a3cd9-07fb-40d8-bf9d-7ff28be54bde",
   "metadata": {},
   "outputs": [],
   "source": [
    "# [1,2,3]"
   ]
  },
  {
   "cell_type": "code",
   "execution_count": 2,
   "id": "bf4af318-7c6d-4d5e-81c9-031b58672213",
   "metadata": {},
   "outputs": [],
   "source": [
    "a = [1,2,3]"
   ]
  },
  {
   "cell_type": "code",
   "execution_count": 85,
   "id": "970378ee-fab1-4ae1-aa3f-2cce71326a18",
   "metadata": {},
   "outputs": [],
   "source": [
    "class cheap():\n",
    "    def __init__(self, max_size=None, arr=None):\n",
    "        self.max_size = max_size\n",
    "        if arr is not None:\n",
    "            self.heapify(arr)\n",
    "        else:\n",
    "            self.arr = []\n",
    "    def _left(self,i):\n",
    "        return (i*2)+1\n",
    "    def _right(self,i):\n",
    "        return (i*2)+2\n",
    "    def _parent(self,i):\n",
    "        return (i-1)//2\n",
    "    \n",
    "    def insert(self, num):\n",
    "        self.arr.append(num)\n",
    "        if len(self.arr)>1:\n",
    "            self.swap_up(len(self.arr)-1)\n",
    "    \n",
    "    def cpop(self):\n",
    "        if len(self.arr)==0:\n",
    "            return\n",
    "        pop_el = self.arr[0]\n",
    "        self.swap(0,-1)\n",
    "        self.arr.pop()\n",
    "        self.swap_down(0)\n",
    "        \n",
    "        return pop_el\n",
    "        \n",
    "    def swap(self, i,j):\n",
    "        self.arr[i], self.arr[j] = self.arr[j], self.arr[i] \n",
    "    \n",
    "    def swap_down(self,pos):\n",
    "        parent = pos\n",
    "        left = self._left(pos)\n",
    "        right = self._right(pos)\n",
    "        if left>len(self.arr)-1:\n",
    "            return\n",
    "        #[3,4,1]\n",
    "        if (left<=len(self.arr)-1) and self.arr[pos]> self.arr[left]:\n",
    "            smallest = left\n",
    "        else:\n",
    "            smallest= pos\n",
    "        if (right<=len(self.arr)-1) and self.arr[smallest]>self.arr[right]:\n",
    "            smallest=right\n",
    "        if smallest ==pos:\n",
    "            return\n",
    "        #swap\n",
    "        self.swap(pos, smallest)\n",
    "        #rec\n",
    "        self.swap_down(smallest)\n",
    "    def swap_up(self, pos):\n",
    "        if pos==0:\n",
    "            return\n",
    "        parent = self._parent(pos)\n",
    "        if self.arr[parent]>self.arr[pos]:\n",
    "            self.swap(parent, pos)\n",
    "        self.swap_up(parent)\n",
    "    def heapify(self, arr):\n",
    "        \"\"\"\n",
    "        For O(n) initialize arr\n",
    "        \"\"\"\n",
    "        self.arr = arr\n",
    "        start = (len(arr)//2) - 1\n",
    "        for i in range(start,-1,-1):\n",
    "            self.swap_down(i)\n",
    "        \n",
    "        "
   ]
  },
  {
   "cell_type": "code",
   "execution_count": 45,
   "id": "eba4b950-4acb-4719-b8ee-9714abd6b75e",
   "metadata": {},
   "outputs": [],
   "source": [
    "h = cheap()\n",
    "h.insert(2)\n",
    "h.insert(1)\n",
    "h.insert(5)\n",
    "h.insert(4)\n",
    "h.insert(7)\n",
    "h.insert(3)"
   ]
  },
  {
   "cell_type": "code",
   "execution_count": 70,
   "id": "88124ded-c147-43d3-aff3-fa785dab61c3",
   "metadata": {},
   "outputs": [],
   "source": [
    "import random"
   ]
  },
  {
   "cell_type": "code",
   "execution_count": 98,
   "id": "d88676f7-daff-410e-8630-3c1a6ba165d6",
   "metadata": {},
   "outputs": [],
   "source": [
    "a = list(range(1,1000))\n",
    "random.shuffle(a)"
   ]
  },
  {
   "cell_type": "code",
   "execution_count": 93,
   "id": "c4f49c13-5b70-4ef4-b7f4-8cd350c2b01a",
   "metadata": {},
   "outputs": [
    {
     "name": "stdout",
     "output_type": "stream",
     "text": [
      "CPU times: user 1.57 ms, sys: 3 µs, total: 1.58 ms\n",
      "Wall time: 1.58 ms\n"
     ]
    }
   ],
   "source": [
    "%%time\n",
    "h2 = cheap(arr=a)"
   ]
  },
  {
   "cell_type": "code",
   "execution_count": 97,
   "id": "e4dcf2d0-7993-458f-918c-d4f4df1b7e87",
   "metadata": {},
   "outputs": [
    {
     "name": "stdout",
     "output_type": "stream",
     "text": [
      "CPU times: user 4.38 ms, sys: 3 µs, total: 4.38 ms\n",
      "Wall time: 4.39 ms\n"
     ]
    }
   ],
   "source": [
    "%%time\n",
    "h = cheap()\n",
    "for el in a:\n",
    "    h.insert(el)"
   ]
  },
  {
   "cell_type": "code",
   "execution_count": 99,
   "id": "744b1e3a-001e-4d3d-bfc2-260313f841d3",
   "metadata": {},
   "outputs": [
    {
     "name": "stdout",
     "output_type": "stream",
     "text": [
      "CPU times: user 58 µs, sys: 1e+03 ns, total: 59 µs\n",
      "Wall time: 62.9 µs\n"
     ]
    }
   ],
   "source": [
    "%%time\n",
    "heapq.heapify(a)"
   ]
  },
  {
   "cell_type": "code",
   "execution_count": 105,
   "id": "2190b153-ef80-4035-bca3-de6b6b7d2caf",
   "metadata": {},
   "outputs": [
    {
     "data": {
      "text/plain": [
       "[1, 2, 3, 4, 5]"
      ]
     },
     "execution_count": 105,
     "metadata": {},
     "output_type": "execute_result"
    }
   ],
   "source": [
    "heapq.heapreplace(5,a)"
   ]
  },
  {
   "cell_type": "code",
   "execution_count": 106,
   "id": "28393fdc-bbe9-4493-b99c-4e8dc47458c7",
   "metadata": {},
   "outputs": [],
   "source": [
    "import pandas as pd"
   ]
  },
  {
   "cell_type": "code",
   "execution_count": 109,
   "id": "ce762bac-98f7-479c-9eae-372e3bed0302",
   "metadata": {},
   "outputs": [],
   "source": [
    "res = pd.read_parquet(\"~/work_ds/new_cat/res.pq\")"
   ]
  },
  {
   "cell_type": "code",
   "execution_count": 110,
   "id": "40a4befe-5b08-4dda-976d-3e79e155eb54",
   "metadata": {},
   "outputs": [
    {
     "data": {
      "text/plain": [
       "(1000, 4)"
      ]
     },
     "execution_count": 110,
     "metadata": {},
     "output_type": "execute_result"
    }
   ],
   "source": [
    "res.shape"
   ]
  },
  {
   "cell_type": "code",
   "execution_count": 113,
   "id": "44498fd3-b514-4b5c-adc0-9ef0bf3f4e1d",
   "metadata": {},
   "outputs": [
    {
     "data": {
      "text/plain": [
       "499    2\n",
       "170    2\n",
       "157    2\n",
       "158    2\n",
       "159    2\n",
       "      ..\n",
       "338    2\n",
       "339    2\n",
       "340    2\n",
       "341    2\n",
       "0      2\n",
       "Name: index, Length: 500, dtype: int64"
      ]
     },
     "execution_count": 113,
     "metadata": {},
     "output_type": "execute_result"
    }
   ],
   "source": [
    "res.reset_index()['index']."
   ]
  },
  {
   "cell_type": "code",
   "execution_count": 116,
   "id": "230bc276-25db-43d0-9990-ec120be0965c",
   "metadata": {},
   "outputs": [],
   "source": [
    "pd.read_parquet(\"~/work_ds/new_cat/in.pq\")[:1000][['name']].to_csv('~/work_ds/new_cat/in_csv.csv')"
   ]
  },
  {
   "cell_type": "code",
   "execution_count": 118,
   "id": "5ef9587a-f672-4a3b-8903-6bc2dd442dcd",
   "metadata": {},
   "outputs": [],
   "source": [
    "res.to_csv('~/work_ds/new_cat/o_csv.csv',index=False)"
   ]
  },
  {
   "cell_type": "code",
   "execution_count": 120,
   "id": "8a9fe41b-1778-4145-8dbe-3fbd18253d94",
   "metadata": {},
   "outputs": [
    {
     "data": {
      "text/html": [
       "<div>\n",
       "<style scoped>\n",
       "    .dataframe tbody tr th:only-of-type {\n",
       "        vertical-align: middle;\n",
       "    }\n",
       "\n",
       "    .dataframe tbody tr th {\n",
       "        vertical-align: top;\n",
       "    }\n",
       "\n",
       "    .dataframe thead th {\n",
       "        text-align: right;\n",
       "    }\n",
       "</style>\n",
       "<table border=\"1\" class=\"dataframe\">\n",
       "  <thead>\n",
       "    <tr style=\"text-align: right;\">\n",
       "      <th></th>\n",
       "      <th>id</th>\n",
       "      <th>name</th>\n",
       "      <th>cat_name</th>\n",
       "      <th>cat_id</th>\n",
       "    </tr>\n",
       "  </thead>\n",
       "  <tbody>\n",
       "    <tr>\n",
       "      <th>0</th>\n",
       "      <td>1</td>\n",
       "      <td>!!! а</td>\n",
       "      <td>Наклейки для творчества</td>\n",
       "      <td>10937</td>\n",
       "    </tr>\n",
       "    <tr>\n",
       "      <th>1</th>\n",
       "      <td>2</td>\n",
       "      <td>!Вырезка свиная охл</td>\n",
       "      <td>Втулки для велосипедов</td>\n",
       "      <td>11994</td>\n",
       "    </tr>\n",
       "    <tr>\n",
       "      <th>2</th>\n",
       "      <td>3</td>\n",
       "      <td>!Гидрокортизон гл. мазь 0,5% 3г при воспалит.з...</td>\n",
       "      <td>Игрушечные роботы и трансформеры</td>\n",
       "      <td>1445</td>\n",
       "    </tr>\n",
       "    <tr>\n",
       "      <th>3</th>\n",
       "      <td>4</td>\n",
       "      <td>!Кефаль средняя охл EAC</td>\n",
       "      <td>Гребенки и клеммы</td>\n",
       "      <td>12741</td>\n",
       "    </tr>\n",
       "    <tr>\n",
       "      <th>4</th>\n",
       "      <td>5</td>\n",
       "      <td>!Ладога Буженина традиц. целик</td>\n",
       "      <td>Ювелирные кулоны и подвески для женщин</td>\n",
       "      <td>31064</td>\n",
       "    </tr>\n",
       "    <tr>\n",
       "      <th>...</th>\n",
       "      <td>...</td>\n",
       "      <td>...</td>\n",
       "      <td>...</td>\n",
       "      <td>...</td>\n",
       "    </tr>\n",
       "    <tr>\n",
       "      <th>995</th>\n",
       "      <td>996</td>\n",
       "      <td>Animal Jam 20мг HUSKY PREMIUM SALT 30мл Жидкость</td>\n",
       "      <td>Женская домашняя одежда</td>\n",
       "      <td>13362</td>\n",
       "    </tr>\n",
       "    <tr>\n",
       "      <th>996</th>\n",
       "      <td>997</td>\n",
       "      <td>Arizona Зеленый чай гранат</td>\n",
       "      <td>Детские автокресла</td>\n",
       "      <td>2325</td>\n",
       "    </tr>\n",
       "    <tr>\n",
       "      <th>997</th>\n",
       "      <td>998</td>\n",
       "      <td>B01.004.001</td>\n",
       "      <td>Автомобильные радиостанции</td>\n",
       "      <td>1207</td>\n",
       "    </tr>\n",
       "    <tr>\n",
       "      <th>998</th>\n",
       "      <td>999</td>\n",
       "      <td>B01.018.001 Консультация врача по специальност...</td>\n",
       "      <td>Автоаптечки</td>\n",
       "      <td>12312</td>\n",
       "    </tr>\n",
       "    <tr>\n",
       "      <th>999</th>\n",
       "      <td>1000</td>\n",
       "      <td>B01.065.002 Обеспечение программы \"АнтиСПИД\"</td>\n",
       "      <td>Ингаляторы, небулайзеры</td>\n",
       "      <td>10833</td>\n",
       "    </tr>\n",
       "  </tbody>\n",
       "</table>\n",
       "<p>1000 rows × 4 columns</p>\n",
       "</div>"
      ],
      "text/plain": [
       "       id                                               name  \\\n",
       "0       1                                              !!! а   \n",
       "1       2                                !Вырезка свиная охл   \n",
       "2       3  !Гидрокортизон гл. мазь 0,5% 3г при воспалит.з...   \n",
       "3       4                            !Кефаль средняя охл EAC   \n",
       "4       5                     !Ладога Буженина традиц. целик   \n",
       "..    ...                                                ...   \n",
       "995   996   Animal Jam 20мг HUSKY PREMIUM SALT 30мл Жидкость   \n",
       "996   997                         Arizona Зеленый чай гранат   \n",
       "997   998                                        B01.004.001   \n",
       "998   999  B01.018.001 Консультация врача по специальност...   \n",
       "999  1000       B01.065.002 Обеспечение программы \"АнтиСПИД\"   \n",
       "\n",
       "                                   cat_name  cat_id  \n",
       "0                   Наклейки для творчества   10937  \n",
       "1                    Втулки для велосипедов   11994  \n",
       "2          Игрушечные роботы и трансформеры    1445  \n",
       "3                         Гребенки и клеммы   12741  \n",
       "4    Ювелирные кулоны и подвески для женщин   31064  \n",
       "..                                      ...     ...  \n",
       "995                 Женская домашняя одежда   13362  \n",
       "996                      Детские автокресла    2325  \n",
       "997              Автомобильные радиостанции    1207  \n",
       "998                             Автоаптечки   12312  \n",
       "999                 Ингаляторы, небулайзеры   10833  \n",
       "\n",
       "[1000 rows x 4 columns]"
      ]
     },
     "execution_count": 120,
     "metadata": {},
     "output_type": "execute_result"
    }
   ],
   "source": [
    "pd.read_csv('~/work_ds/new_cat/o_csv.csv')"
   ]
  },
  {
   "cell_type": "code",
   "execution_count": null,
   "id": "4e426490-81ec-48f7-8366-bb466487ba46",
   "metadata": {},
   "outputs": [],
   "source": []
  }
 ],
 "metadata": {
  "kernelspec": {
   "display_name": "Python 3 (ipykernel)",
   "language": "python",
   "name": "python3"
  },
  "language_info": {
   "codemirror_mode": {
    "name": "ipython",
    "version": 3
   },
   "file_extension": ".py",
   "mimetype": "text/x-python",
   "name": "python",
   "nbconvert_exporter": "python",
   "pygments_lexer": "ipython3",
   "version": "3.9.7"
  }
 },
 "nbformat": 4,
 "nbformat_minor": 5
}
